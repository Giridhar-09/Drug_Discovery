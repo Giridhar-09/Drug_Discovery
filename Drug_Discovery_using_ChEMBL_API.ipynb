{
  "nbformat": 4,
  "nbformat_minor": 0,
  "metadata": {
    "colab": {
      "provenance": [],
      "gpuType": "T4"
    },
    "kernelspec": {
      "name": "python3",
      "display_name": "Python 3"
    },
    "language_info": {
      "name": "python"
    },
    "accelerator": "GPU"
  },
  "cells": [
    {
      "cell_type": "code",
      "execution_count": 1,
      "metadata": {
        "colab": {
          "base_uri": "https://localhost:8080/"
        },
        "id": "KXhbld6ENpJz",
        "outputId": "48fbe91d-8b3e-4148-fd80-95678113ec9d"
      },
      "outputs": [
        {
          "output_type": "stream",
          "name": "stdout",
          "text": [
            "Collecting chembl_webresource_client\n",
            "  Downloading chembl_webresource_client-0.10.9-py3-none-any.whl.metadata (1.4 kB)\n",
            "Requirement already satisfied: urllib3 in /usr/local/lib/python3.12/dist-packages (from chembl_webresource_client) (2.5.0)\n",
            "Requirement already satisfied: requests>=2.18.4 in /usr/local/lib/python3.12/dist-packages (from chembl_webresource_client) (2.32.4)\n",
            "Collecting requests-cache~=1.2 (from chembl_webresource_client)\n",
            "  Downloading requests_cache-1.2.1-py3-none-any.whl.metadata (9.9 kB)\n",
            "Requirement already satisfied: easydict in /usr/local/lib/python3.12/dist-packages (from chembl_webresource_client) (1.13)\n",
            "Requirement already satisfied: charset_normalizer<4,>=2 in /usr/local/lib/python3.12/dist-packages (from requests>=2.18.4->chembl_webresource_client) (3.4.3)\n",
            "Requirement already satisfied: idna<4,>=2.5 in /usr/local/lib/python3.12/dist-packages (from requests>=2.18.4->chembl_webresource_client) (3.10)\n",
            "Requirement already satisfied: certifi>=2017.4.17 in /usr/local/lib/python3.12/dist-packages (from requests>=2.18.4->chembl_webresource_client) (2025.8.3)\n",
            "Requirement already satisfied: attrs>=21.2 in /usr/local/lib/python3.12/dist-packages (from requests-cache~=1.2->chembl_webresource_client) (25.3.0)\n",
            "Collecting cattrs>=22.2 (from requests-cache~=1.2->chembl_webresource_client)\n",
            "  Downloading cattrs-25.2.0-py3-none-any.whl.metadata (8.4 kB)\n",
            "Requirement already satisfied: platformdirs>=2.5 in /usr/local/lib/python3.12/dist-packages (from requests-cache~=1.2->chembl_webresource_client) (4.4.0)\n",
            "Collecting url-normalize>=1.4 (from requests-cache~=1.2->chembl_webresource_client)\n",
            "  Downloading url_normalize-2.2.1-py3-none-any.whl.metadata (5.6 kB)\n",
            "Requirement already satisfied: typing-extensions>=4.12.2 in /usr/local/lib/python3.12/dist-packages (from cattrs>=22.2->requests-cache~=1.2->chembl_webresource_client) (4.15.0)\n",
            "Downloading chembl_webresource_client-0.10.9-py3-none-any.whl (55 kB)\n",
            "\u001b[2K   \u001b[90m━━━━━━━━━━━━━━━━━━━━━━━━━━━━━━━━━━━━━━━━\u001b[0m \u001b[32m55.2/55.2 kB\u001b[0m \u001b[31m4.6 MB/s\u001b[0m eta \u001b[36m0:00:00\u001b[0m\n",
            "\u001b[?25hDownloading requests_cache-1.2.1-py3-none-any.whl (61 kB)\n",
            "\u001b[2K   \u001b[90m━━━━━━━━━━━━━━━━━━━━━━━━━━━━━━━━━━━━━━━━\u001b[0m \u001b[32m61.4/61.4 kB\u001b[0m \u001b[31m6.3 MB/s\u001b[0m eta \u001b[36m0:00:00\u001b[0m\n",
            "\u001b[?25hDownloading cattrs-25.2.0-py3-none-any.whl (70 kB)\n",
            "\u001b[2K   \u001b[90m━━━━━━━━━━━━━━━━━━━━━━━━━━━━━━━━━━━━━━━━\u001b[0m \u001b[32m70.0/70.0 kB\u001b[0m \u001b[31m7.5 MB/s\u001b[0m eta \u001b[36m0:00:00\u001b[0m\n",
            "\u001b[?25hDownloading url_normalize-2.2.1-py3-none-any.whl (14 kB)\n",
            "Installing collected packages: url-normalize, cattrs, requests-cache, chembl_webresource_client\n",
            "Successfully installed cattrs-25.2.0 chembl_webresource_client-0.10.9 requests-cache-1.2.1 url-normalize-2.2.1\n",
            "\u001b[31mERROR: Could not find a version that satisfies the requirement rdkit-pypi (from versions: none)\u001b[0m\u001b[31m\n",
            "\u001b[0m\u001b[31mERROR: No matching distribution found for rdkit-pypi\u001b[0m\u001b[31m\n",
            "\u001b[0mRequirement already satisfied: pandas in /usr/local/lib/python3.12/dist-packages (2.2.2)\n",
            "Requirement already satisfied: numpy>=1.26.0 in /usr/local/lib/python3.12/dist-packages (from pandas) (2.0.2)\n",
            "Requirement already satisfied: python-dateutil>=2.8.2 in /usr/local/lib/python3.12/dist-packages (from pandas) (2.9.0.post0)\n",
            "Requirement already satisfied: pytz>=2020.1 in /usr/local/lib/python3.12/dist-packages (from pandas) (2025.2)\n",
            "Requirement already satisfied: tzdata>=2022.7 in /usr/local/lib/python3.12/dist-packages (from pandas) (2025.2)\n",
            "Requirement already satisfied: six>=1.5 in /usr/local/lib/python3.12/dist-packages (from python-dateutil>=2.8.2->pandas) (1.17.0)\n"
          ]
        }
      ],
      "source": [
        "# Install necessary libraries\n",
        "!pip install chembl_webresource_client\n",
        "!pip install rdkit-pypi\n",
        "!pip install pandas"
      ]
    },
    {
      "cell_type": "markdown",
      "source": [
        "## rdkit is  free, open-source software toolkit for cheminformatics and drug discovery, written in C++ with a powerful Python API"
      ],
      "metadata": {
        "id": "-RHnGH4VRY0Y"
      }
    },
    {
      "cell_type": "code",
      "source": [
        "!pip install rdkit"
      ],
      "metadata": {
        "colab": {
          "base_uri": "https://localhost:8080/"
        },
        "id": "9NnSXomjN3cx",
        "outputId": "546f6480-6fb8-4bb6-c81a-775b9fdd4c64"
      },
      "execution_count": 2,
      "outputs": [
        {
          "output_type": "stream",
          "name": "stdout",
          "text": [
            "Collecting rdkit\n",
            "  Downloading rdkit-2025.3.6-cp312-cp312-manylinux_2_28_x86_64.whl.metadata (4.1 kB)\n",
            "Requirement already satisfied: numpy in /usr/local/lib/python3.12/dist-packages (from rdkit) (2.0.2)\n",
            "Requirement already satisfied: Pillow in /usr/local/lib/python3.12/dist-packages (from rdkit) (11.3.0)\n",
            "Downloading rdkit-2025.3.6-cp312-cp312-manylinux_2_28_x86_64.whl (36.1 MB)\n",
            "\u001b[2K   \u001b[90m━━━━━━━━━━━━━━━━━━━━━━━━━━━━━━━━━━━━━━━━\u001b[0m \u001b[32m36.1/36.1 MB\u001b[0m \u001b[31m52.5 MB/s\u001b[0m eta \u001b[36m0:00:00\u001b[0m\n",
            "\u001b[?25hInstalling collected packages: rdkit\n",
            "Successfully installed rdkit-2025.3.6\n"
          ]
        }
      ]
    },
    {
      "cell_type": "code",
      "source": [
        "import requests\n",
        "import pandas as pd\n",
        "from chembl_webresource_client.new_client import new_client\n",
        "from rdkit import Chem\n",
        "from rdkit.Chem import Draw\n",
        "from IPython.display import display\n"
      ],
      "metadata": {
        "id": "WN_WQJ8QOMV0"
      },
      "execution_count": 3,
      "outputs": []
    },
    {
      "cell_type": "code",
      "source": [
        "def search_drugs_by_disease(disease_name):\n",
        "    '''Search ChEMBL for drugs indicated for given disease name'''\n",
        "    indications = new_client.drug_indication.filter(disease_efo__icontains=disease_name)\n",
        "    drugs = []\n",
        "    for rec in indications:\n",
        "        parent_chembl_id = rec['molecule_chembl_id']\n",
        "        detail = new_client.molecule.get(parent_chembl_id)\n",
        "        drugs.append({\n",
        "            'drug_name': detail.get('pref_name', 'NA'),\n",
        "            'chembl_id': parent_chembl_id,\n",
        "            'indication': rec.get('efo_term', 'NA'),\n",
        "            'max_phase': detail.get('max_phase', 'NA'),\n",
        "            'smiles': detail.get('molecule_structures', {}).get('canonical_smiles', 'NA') if detail.get('molecule_structures') else None\n",
        "        })\n",
        "    return pd.DataFrame(drugs)\n",
        "\n",
        "def display_compound(smiles):\n",
        "    if smiles and smiles not in ['NA', None]:\n",
        "        mol = Chem.MolFromSmiles(smiles)\n",
        "        if mol:\n",
        "            return Draw.MolToImage(mol)\n",
        "    return None\n"
      ],
      "metadata": {
        "id": "K6MKzXx7OP8U"
      },
      "execution_count": 4,
      "outputs": []
    },
    {
      "cell_type": "markdown",
      "source": [
        "# The cell takes a lot of time to gather all the information from ChEMBL"
      ],
      "metadata": {
        "id": "AqexLdPHSHQh"
      }
    },
    {
      "cell_type": "code",
      "source": [
        "# User input section\n",
        "disease = input('Enter the disease name (e.g. dengue): ').strip()\n",
        "symptoms = input('Describe key symptoms (optional): ').strip()\n",
        "print(f\"Searching for drug compounds for: {disease}\")\n",
        "\n",
        "df = search_drugs_by_disease(disease)\n",
        "if df.empty:\n",
        "    print('No drug compounds found for the given disease. Try changing the disease name or spelling.')\n",
        "else:\n",
        "    display(df)\n"
      ],
      "metadata": {
        "colab": {
          "base_uri": "https://localhost:8080/"
        },
        "id": "F_9AtMjMObOL",
        "outputId": "78673255-9209-4fc3-a3dc-cfa8ef022da5"
      },
      "execution_count": null,
      "outputs": [
        {
          "output_type": "stream",
          "name": "stdout",
          "text": [
            "Enter the disease name (e.g. dengue): dengue\n",
            "Describe key symptoms (optional): high fever\n",
            "Searching for drug compounds for: dengue\n"
          ]
        }
      ]
    },
    {
      "cell_type": "markdown",
      "source": [
        "## After running of the above cell it gives a description about the drug used to prevent or to cure dengue"
      ],
      "metadata": {
        "id": "nR2JB9IhRsj5"
      }
    },
    {
      "cell_type": "code",
      "source": [
        "# Automated test for dengue fever\n",
        "df_dengue = search_drugs_by_disease('dengue')\n",
        "print('Top compounds for dengue:')\n",
        "display(df_dengue.head(5))\n",
        "for idx, row in df_dengue.head(2).iterrows():\n",
        "    print(f\"\n",
        "Drug: {row['drug_name']} (ChEMBL ID: {row['chembl_id']})\")\n",
        "    img = display_compound(row['smiles'])\n",
        "    display(img)\n",
        "    print('---')\n"
      ],
      "metadata": {
        "id": "4yKRd-qqOr9F"
      },
      "execution_count": null,
      "outputs": []
    },
    {
      "cell_type": "markdown",
      "source": [],
      "metadata": {
        "id": "j3iH-20XQ7vD"
      }
    },
    {
      "cell_type": "markdown",
      "source": [
        "## Notes\n",
        "\n",
        "->data uses live public ChEMBL api and will update automatically\n",
        "\n",
        "->we can even try other diseases like \"malaria\", \"covid\", \"cancer\"\n"
      ],
      "metadata": {
        "id": "nUPJO2d6Q5PE"
      }
    }
  ]
}